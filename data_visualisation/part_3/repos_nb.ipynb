{
 "cells": [
  {
   "cell_type": "markdown",
   "source": [
    "### GitHub API Python Repositories Analysis and Visualisation with Plotly"
   ],
   "metadata": {
    "collapsed": false,
    "pycharm": {
     "name": "#%% md\n"
    }
   }
  },
  {
   "cell_type": "code",
   "execution_count": null,
   "outputs": [],
   "source": [
    "import requests\n",
    "\n",
    "url = 'https://api.github.com/search/repositories?q=language:python&sort=stars'\n",
    "headers = {'Accept': 'application/vnd.github.v3+json'}\n",
    "r = requests.get(url, headers=headers)\n",
    "print(r.status_code)"
   ],
   "metadata": {
    "collapsed": false,
    "pycharm": {
     "name": "#%%\n"
    }
   }
  },
  {
   "cell_type": "code",
   "execution_count": 6,
   "outputs": [],
   "source": [
    "response_dict = r.json()\n",
    "repo_dicts = response_dict[\"items\"]\n",
    "repo_links, stars, labels = [], [], []\n",
    "for repo_dict in repo_dicts:\n",
    "    repo_name = repo_dict[\"name\"]\n",
    "    repo_url = repo_dict[\"html_url\"]\n",
    "    repo_links.append(f\"<a href='{repo_url}'> {repo_name}</a>\")\n",
    "\n",
    "    stars.append(repo_dict[\"stargazers_count\"])\n",
    "\n",
    "    owner = repo_dict['owner']['login']\n",
    "    description = repo_dict['description']\n",
    "    label = f\"{owner}<br />{description}\"\n",
    "    labels.append(label)"
   ],
   "metadata": {
    "collapsed": false,
    "pycharm": {
     "name": "#%%\n"
    }
   }
  },
  {
   "cell_type": "code",
   "execution_count": 7,
   "outputs": [
    {
     "data": {
      "text/plain": "'repo_stars.html'"
     },
     "execution_count": 7,
     "metadata": {},
     "output_type": "execute_result"
    }
   ],
   "source": [
    "from plotly.graph_objs import Bar\n",
    "from plotly import offline\n",
    "\n",
    "# make visualisation\n",
    "data = [{\n",
    "    \"type\": 'bar',\n",
    "    'x': repo_links,\n",
    "    'y': stars,\n",
    "    'hovertext': labels,\n",
    "    'marker': {\n",
    "        'color': 'rgb(60, 100, 150)',\n",
    "        'line': {'width': 1.5, 'color': 'rgb(25, 25, 25)'}\n",
    "    },\n",
    "    'opacity': 0.6,\n",
    "}]\n",
    "\n",
    "my_layout = {\n",
    "    'title': 'Most-Starred Python Projects on GitHub',\n",
    "    'xaxis': {\n",
    "        'title': 'Repository',\n",
    "        'titlefont': {'size': 24},\n",
    "        'tickfont': {'size': 14},\n",
    "    },\n",
    "    'yaxis': {\n",
    "        'title': 'Stars',\n",
    "        'titlefont': {'size': 24},\n",
    "        'tickfont': {'size': 14},\n",
    "    }\n",
    "}\n",
    "fig = {'data': data, 'layout': my_layout}\n",
    "offline.plot(fig, filename='repo_stars.html')"
   ],
   "metadata": {
    "collapsed": false,
    "pycharm": {
     "name": "#%%\n"
    }
   }
  },
  {
   "cell_type": "markdown",
   "source": [
    "### Hacker News API"
   ],
   "metadata": {
    "collapsed": false,
    "pycharm": {
     "name": "#%% md\n"
    }
   }
  },
  {
   "cell_type": "code",
   "execution_count": 16,
   "outputs": [
    {
     "name": "stdout",
     "output_type": "stream",
     "text": [
      "200\n"
     ]
    }
   ],
   "source": [
    "import json\n",
    "from operator import itemgetter\n",
    "\n",
    "hacker_news_url = 'https://hacker-news.firebaseio.com/v0/item/19155826.json'\n",
    "r_hn = requests.get(hacker_news_url)\n",
    "print(r_hn.status_code)"
   ],
   "metadata": {
    "collapsed": false,
    "pycharm": {
     "name": "#%%\n"
    }
   }
  },
  {
   "cell_type": "code",
   "execution_count": 17,
   "outputs": [],
   "source": [
    "response_dict_hn = r_hn.json()"
   ],
   "metadata": {
    "collapsed": false,
    "pycharm": {
     "name": "#%%\n"
    }
   }
  },
  {
   "cell_type": "code",
   "execution_count": null,
   "outputs": [],
   "source": [
    "# for reading the json properly\n",
    "readable_file = 'readable_hn_data.json'\n",
    "with open(readable_file, 'w') as f:\n",
    "    json.dump(response_dict_hn, f, indent=4)"
   ],
   "metadata": {
    "collapsed": false,
    "pycharm": {
     "name": "#%%\n"
    }
   }
  },
  {
   "cell_type": "code",
   "execution_count": 30,
   "outputs": [
    {
     "name": "stdout",
     "output_type": "stream",
     "text": [
      "\n",
      "Title: Hollywood’s visual effects crisis\n",
      "Discussion link: https://hacker-news.firebaseio.com/v0/item/32421538\n",
      "Comments: 152\n",
      "\n",
      "Title: Will Bun JavaScript Take Node's Crown\n",
      "Discussion link: https://hacker-news.firebaseio.com/v0/item/32457587\n",
      "Comments: 124\n",
      "\n",
      "Title: Slab City reaches its boiling point\n",
      "Discussion link: https://hacker-news.firebaseio.com/v0/item/32454543\n",
      "Comments: 99\n",
      "\n",
      "Title: OctoPrint: Snappy web interface for your 3D printer\n",
      "Discussion link: https://hacker-news.firebaseio.com/v0/item/32455408\n",
      "Comments: 91\n",
      "\n",
      "Title: The Remote Pop-In (2021)\n",
      "Discussion link: https://hacker-news.firebaseio.com/v0/item/32456107\n",
      "Comments: 88\n",
      "\n",
      "Title: The Open Source Paradox\n",
      "Discussion link: https://hacker-news.firebaseio.com/v0/item/32455968\n",
      "Comments: 54\n",
      "\n",
      "Title: Curious C++ Lambda Examples: Recursion, constexpr, Containers C++23 included\n",
      "Discussion link: https://hacker-news.firebaseio.com/v0/item/32416016\n",
      "Comments: 41\n",
      "\n",
      "Title: Mozart Effect\n",
      "Discussion link: https://hacker-news.firebaseio.com/v0/item/32416099\n",
      "Comments: 40\n",
      "\n",
      "Title: Muxfs – a mirroring, checksumming, and self-healing filesystem layer for OpenBSD\n",
      "Discussion link: https://hacker-news.firebaseio.com/v0/item/32456905\n",
      "Comments: 38\n",
      "\n",
      "Title: Observations on tragedy in a digital age\n",
      "Discussion link: https://hacker-news.firebaseio.com/v0/item/32455050\n",
      "Comments: 38\n",
      "\n",
      "Title: List of over 500 Swedish tech startups and scaleups\n",
      "Discussion link: https://hacker-news.firebaseio.com/v0/item/32458294\n",
      "Comments: 31\n",
      "\n",
      "Title: Paradigms of Artificial Intelligence Programming\n",
      "Discussion link: https://hacker-news.firebaseio.com/v0/item/32458048\n",
      "Comments: 26\n",
      "\n",
      "Title: What Is Quantum Field Theory and Why Is It Incomplete?\n",
      "Discussion link: https://hacker-news.firebaseio.com/v0/item/32425955\n",
      "Comments: 26\n",
      "\n",
      "Title: Forecasting of energy consumption by G20 countries\n",
      "Discussion link: https://hacker-news.firebaseio.com/v0/item/32456567\n",
      "Comments: 20\n",
      "\n",
      "Title: A New Jailbreak for John Deere Tractors Rides the Right-to-Repair Wave\n",
      "Discussion link: https://hacker-news.firebaseio.com/v0/item/32457590\n",
      "Comments: 19\n",
      "\n",
      "Title: samurai: Ninja-compatible build tool written in C\n",
      "Discussion link: https://hacker-news.firebaseio.com/v0/item/32455918\n",
      "Comments: 18\n",
      "\n",
      "Title: Windows 11 x64 security hardening guide\n",
      "Discussion link: https://hacker-news.firebaseio.com/v0/item/32458440\n",
      "Comments: 17\n",
      "\n",
      "Title: Photos of trains in the American West (2017)\n",
      "Discussion link: https://hacker-news.firebaseio.com/v0/item/32426163\n",
      "Comments: 16\n",
      "\n",
      "Title: Oasis: Small statically-linked Linux system\n",
      "Discussion link: https://hacker-news.firebaseio.com/v0/item/32458744\n",
      "Comments: 14\n",
      "\n",
      "Title: ID This SciFi Short Story\n",
      "Discussion link: https://hacker-news.firebaseio.com/v0/item/32458729\n",
      "Comments: 11\n",
      "\n",
      "Title: Ideas for DataScript 2\n",
      "Discussion link: https://hacker-news.firebaseio.com/v0/item/32447636\n",
      "Comments: 5\n",
      "\n",
      "Title: Dogelang – A Python with Haskell Syntax (2020)\n",
      "Discussion link: https://hacker-news.firebaseio.com/v0/item/32456151\n",
      "Comments: 5\n",
      "\n",
      "Title: Human Capital, Innovation, and Growth\n",
      "Discussion link: https://hacker-news.firebaseio.com/v0/item/32457903\n",
      "Comments: 4\n",
      "\n",
      "Title: Auto Traffic Control – A gRPC Programming Air Traffic Control Game\n",
      "Discussion link: https://hacker-news.firebaseio.com/v0/item/32458180\n",
      "Comments: 2\n",
      "\n",
      "Title: Zoom macOS app quietly added back cs.disable-library-validation entitlement\n",
      "Discussion link: https://hacker-news.firebaseio.com/v0/item/32458878\n",
      "Comments: 2\n",
      "\n",
      "Title: Faster Protocol Buffers\n",
      "Discussion link: https://hacker-news.firebaseio.com/v0/item/32456998\n",
      "Comments: 2\n",
      "\n",
      "Title: The four pillars of data observability: metrics, metadata, lineage, and logs\n",
      "Discussion link: https://hacker-news.firebaseio.com/v0/item/32424755\n",
      "Comments: 0\n",
      "\n",
      "Title: Lisp-Stat: An Environment for Statistical Computing\n",
      "Discussion link: https://hacker-news.firebaseio.com/v0/item/32458271\n",
      "Comments: 0\n",
      "\n",
      "Title: Stacker (YC S20) Is Hiring a Product Engineer\n",
      "Discussion link: https://hacker-news.firebaseio.com/v0/item/32457119\n",
      "Comments: 0\n",
      "\n",
      "Title: Tectonically-driven oxidant production in the hot biosphere\n",
      "Discussion link: https://hacker-news.firebaseio.com/v0/item/32420228\n",
      "Comments: 0\n"
     ]
    }
   ],
   "source": [
    "url_ts = 'https://hacker-news.firebaseio.com/v0/topstories.json'\n",
    "response_dict_ts = requests.get(url_ts)\n",
    "r_sub_ids = response_dict_ts.json()\n",
    "sub_ids_dict = []\n",
    "for sub_id in r_sub_ids[:30]:\n",
    "    link = f\"https://hacker-news.firebaseio.com/v0/item/{sub_id}.json\"\n",
    "    response_dict_sub_id = requests.get(link)\n",
    "    # print(f\"id: {sub_id}\\tstatus: {response_dict_sub_id.status_code}\")\n",
    "    data_id = response_dict_sub_id.json()\n",
    "    # print(data_id)\n",
    "    data_dict = {\n",
    "        'title': data_id['title'],\n",
    "        'hn_link': f\"https://hacker-news.firebaseio.com/v0/item/{sub_id}\",\n",
    "        'comments': data_id.get('descendants', 0)\n",
    "    }\n",
    "    sub_ids_dict.append(data_dict)\n",
    "\n",
    "sub_ids_dict = sorted(sub_ids_dict, key=itemgetter('comments'), reverse=True)\n",
    "for submission_dict in sub_ids_dict:\n",
    "    print(f\"\\nTitle: {submission_dict['title']}\")\n",
    "    print(f\"Discussion link: {submission_dict['hn_link']}\")\n",
    "    print(f\"Comments: {submission_dict['comments']}\")\n",
    "\n",
    "# 32457119 - no field descendants"
   ],
   "metadata": {
    "collapsed": false,
    "pycharm": {
     "name": "#%%\n"
    }
   }
  }
 ],
 "metadata": {
  "kernelspec": {
   "display_name": "Python 3",
   "language": "python",
   "name": "python3"
  },
  "language_info": {
   "codemirror_mode": {
    "name": "ipython",
    "version": 2
   },
   "file_extension": ".py",
   "mimetype": "text/x-python",
   "name": "python",
   "nbconvert_exporter": "python",
   "pygments_lexer": "ipython2",
   "version": "2.7.6"
  }
 },
 "nbformat": 4,
 "nbformat_minor": 0
}
